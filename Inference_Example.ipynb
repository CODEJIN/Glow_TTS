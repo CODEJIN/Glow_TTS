{
 "cells": [
  {
   "cell_type": "code",
   "execution_count": 1,
   "metadata": {},
   "outputs": [],
   "source": [
    "from Inference import Inferencer"
   ]
  },
  {
   "cell_type": "code",
   "execution_count": 3,
   "metadata": {},
   "outputs": [],
   "source": [
    "checkpoint_Path = 'D:/GlowTTS.Results/SR24K.SE_LUT.LJVCTK/Checkpoint/S_100000.pt'"
   ]
  },
  {
   "cell_type": "code",
   "execution_count": 4,
   "metadata": {},
   "outputs": [
    {
     "name": "stdout",
     "output_type": "stream",
     "text": [
      "2020-11-08 03:59:52,874 (Inference:271) INFO: Checkpoint loaded at 100000 steps.\n"
     ]
    }
   ],
   "source": [
    "inferencer = Inferencer(checkpoint_path= checkpoint_Path)"
   ]
  },
  {
   "cell_type": "markdown",
   "metadata": {},
   "source": [
    "# Set parameters"
   ]
  },
  {
   "cell_type": "code",
   "execution_count": 6,
   "metadata": {},
   "outputs": [],
   "source": [
    "labels = [\n",
    "    'Inference_Test1',\n",
    "    'Inference_Test2'\n",
    "    ]\n",
    "texts = [\n",
    "    'Birds of a feather flock together.',\n",
    "    'A creative artist works on his next composition because he was not satisfied with his previous one.'\n",
    "    ]\n",
    "scales = [1.0, 0.9]\n",
    "speakers = [0, 1]\n",
    "refereces = [\n",
    "    './Wav_for_Inference/LJ.LJ050-0278.wav',\n",
    "    './Wav_for_Inference/VCTK.p361_209.wav'\n",
    "    ]\n",
    "inference_Path= './Inference_Examples'"
   ]
  },
  {
   "cell_type": "code",
   "execution_count": 7,
   "metadata": {},
   "outputs": [
    {
     "name": "stdout",
     "output_type": "stream",
     "text": [
      "2020-11-08 04:02:09,862 (Inference:234) INFO: Start inference.\n",
      "2020-11-08 04:02:09,862 (Inference:249) INFO: The number of inference patterns = 2.\n"
     ]
    },
    {
     "name": "stderr",
     "output_type": "stream",
     "text": [
      "[Inference]: 100%|███████████████████████████████████████████████████████████████████████| 1/1 [00:06<00:00,  6.18s/it]\n"
     ]
    }
   ],
   "source": [
    "inferencer.Inference(\n",
    "    labels= labels,\n",
    "    texts= texts,\n",
    "    scales= scales,\n",
    "    speakers= speakers,\n",
    "    references= refereces,\n",
    "    inference_path= inference_Path\n",
    "    )"
   ]
  }
 ],
 "metadata": {
  "kernelspec": {
   "display_name": "Python 3",
   "language": "python",
   "name": "python3"
  },
  "language_info": {
   "codemirror_mode": {
    "name": "ipython",
    "version": 3
   },
   "file_extension": ".py",
   "mimetype": "text/x-python",
   "name": "python",
   "nbconvert_exporter": "python",
   "pygments_lexer": "ipython3",
   "version": "3.7.6"
  }
 },
 "nbformat": 4,
 "nbformat_minor": 4
}
